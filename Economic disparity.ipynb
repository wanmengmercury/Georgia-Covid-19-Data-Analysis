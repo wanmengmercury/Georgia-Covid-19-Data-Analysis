{
 "cells": [
  {
   "cell_type": "code",
   "execution_count": 1,
   "id": "46698588",
   "metadata": {},
   "outputs": [],
   "source": [
    "import pandas as pd\n",
    "import seaborn as sns\n",
    "from datetime import date\n",
    "import plotly.express as px\n",
    "import plotly.graph_objects as go\n",
    "import matplotlib.pyplot as plt\n",
    "from itertools import cycle\n",
    "import geopandas as gpd\n",
    "import json\n",
    "from geojson_rewind import rewind\n",
    "\n",
    "import statsmodels.api as sm\n",
    "import statsmodels.formula.api as smf\n",
    "from scipy import stats"
   ]
  },
  {
   "cell_type": "markdown",
   "id": "c8daa3f7",
   "metadata": {},
   "source": [
    "## 1. Data preprocessing"
   ]
  },
  {
   "cell_type": "code",
   "execution_count": 2,
   "id": "e6009ba4",
   "metadata": {},
   "outputs": [],
   "source": [
    "ga_counties = gpd.read_file('/Users/mercuryliu/Documents/Covid-19 Research/Counties_Georgia.geojson')\n",
    "#Populate hucs['properties'] (i.e. convert to plotly-readible geojson-type)\n",
    "ga_counties = json.loads(ga_counties.to_json())\n",
    "ga_counties_rewound = rewind(ga_counties,rfc7946=False)"
   ]
  },
  {
   "cell_type": "code",
   "execution_count": 3,
   "id": "1c516a7d",
   "metadata": {},
   "outputs": [],
   "source": [
    "ec1 = pd.read_csv('/Users/mercuryliu/Documents/Covid-19 Research/Data/Economic Data/CAINC30_GA_1969_2019.csv'\n",
    "                 )\n",
    "ec2 = pd.read_csv('/Users/mercuryliu/Documents/Covid-19 Research/Data/Economic Data/CAINC1_GA_1969_2019.csv'                 \n",
    ")\n",
    "ga_cases = pd.read_csv('/Users/mercuryliu/Documents/Covid-19 Research/Data/06252021/county_cases.csv')\n",
    "ga_cases = ga_cases.drop(['State FIPS code'], axis=1)"
   ]
  },
  {
   "cell_type": "code",
   "execution_count": null,
   "id": "4e8fb199",
   "metadata": {},
   "outputs": [],
   "source": []
  },
  {
   "cell_type": "code",
   "execution_count": 4,
   "id": "a2623d9d",
   "metadata": {},
   "outputs": [],
   "source": [
    "ec1 = ec1[['GeoFIPS', 'GeoName', 'TableName',\n",
    "    'LineCode', 'IndustryClassification', 'Description', 'Unit', '2019']]"
   ]
  },
  {
   "cell_type": "code",
   "execution_count": null,
   "id": "04702c73",
   "metadata": {},
   "outputs": [],
   "source": []
  },
  {
   "cell_type": "code",
   "execution_count": 5,
   "id": "0e1fcf6f",
   "metadata": {},
   "outputs": [],
   "source": [
    "p_income = ec1.loc[ec1['Description'] == 'Personal income (thousands of dollars)']"
   ]
  },
  {
   "cell_type": "code",
   "execution_count": null,
   "id": "4388aa12",
   "metadata": {},
   "outputs": [],
   "source": []
  },
  {
   "cell_type": "code",
   "execution_count": 6,
   "id": "ec13494a",
   "metadata": {},
   "outputs": [],
   "source": [
    "p_income = p_income.drop(labels=0, axis=0)"
   ]
  },
  {
   "cell_type": "code",
   "execution_count": null,
   "id": "11dd0104",
   "metadata": {},
   "outputs": [],
   "source": []
  },
  {
   "cell_type": "code",
   "execution_count": 7,
   "id": "a90b96ef",
   "metadata": {},
   "outputs": [],
   "source": [
    "em_insurance = ec1.loc[ec1['Description'] == '   Employer contributions for employee pension and insurance funds 5/']\n",
    "em_insurance = em_insurance.drop(labels=18, axis=0)\n",
    "em_insurance = ec1.loc[ec1['Description'] == '   Employer contributions for employee pension and insurance funds 5/']\n"
   ]
  },
  {
   "cell_type": "code",
   "execution_count": null,
   "id": "578695e7",
   "metadata": {},
   "outputs": [],
   "source": []
  },
  {
   "cell_type": "code",
   "execution_count": 8,
   "id": "d2e762bd",
   "metadata": {},
   "outputs": [],
   "source": [
    "total_jobs = ec1.loc[ec1['Description'] == 'Total employment (number of jobs)']\n",
    "total_jobs = total_jobs.drop(labels=23, axis=0)"
   ]
  },
  {
   "cell_type": "code",
   "execution_count": null,
   "id": "15c710c7",
   "metadata": {},
   "outputs": [],
   "source": []
  },
  {
   "cell_type": "code",
   "execution_count": null,
   "id": "db775d5a",
   "metadata": {},
   "outputs": [],
   "source": []
  },
  {
   "cell_type": "code",
   "execution_count": 9,
   "id": "b57e6e16",
   "metadata": {},
   "outputs": [],
   "source": [
    "#employer contribution to insurance: unit: thousands of dollars\n",
    "#personal income: unit: thousands of dollars\n",
    "#total jobs: unit # of jobs \n",
    "em_insurance = em_insurance.rename(columns={'GeoName': 'county_name', '2019': 'employer_contri'})\n",
    "total_jobs = total_jobs.rename(columns={'GeoName': 'county_name', '2019': 'totalJobs'})\n",
    "p_income = p_income.rename(columns={'GeoName': 'county_name', '2019': 'personal_income'})\n"
   ]
  },
  {
   "cell_type": "code",
   "execution_count": 10,
   "id": "23760ea1",
   "metadata": {},
   "outputs": [],
   "source": [
    "em_insurance = em_insurance.drop(labels=18, axis=0)"
   ]
  },
  {
   "cell_type": "code",
   "execution_count": null,
   "id": "24d7b09c",
   "metadata": {},
   "outputs": [],
   "source": []
  },
  {
   "cell_type": "code",
   "execution_count": 11,
   "id": "3ca85e18",
   "metadata": {},
   "outputs": [],
   "source": [
    "em_insurance = em_insurance[['county_name', 'employer_contri']]\n",
    "p_income = p_income[['county_name', 'personal_income']]\n",
    "total_jobs = total_jobs[['county_name', 'totalJobs']]"
   ]
  },
  {
   "cell_type": "code",
   "execution_count": null,
   "id": "c9abd771",
   "metadata": {},
   "outputs": [],
   "source": []
  },
  {
   "cell_type": "code",
   "execution_count": 12,
   "id": "3ae6fdfe",
   "metadata": {},
   "outputs": [],
   "source": [
    "em_insurance['county_name'] = em_insurance['county_name'] .replace(', GA', '', regex=True)\n",
    "p_income['county_name'] = p_income['county_name'] .replace(', GA', '', regex=True)\n",
    "total_jobs['county_name'] = total_jobs['county_name'] .replace(', GA', '', regex=True)"
   ]
  },
  {
   "cell_type": "code",
   "execution_count": null,
   "id": "cfe11ef9",
   "metadata": {},
   "outputs": [],
   "source": []
  },
  {
   "cell_type": "code",
   "execution_count": null,
   "id": "c319e641",
   "metadata": {},
   "outputs": [],
   "source": []
  },
  {
   "cell_type": "code",
   "execution_count": 13,
   "id": "7afc17ce",
   "metadata": {},
   "outputs": [],
   "source": [
    "econ_cases = ga_cases.merge(em_insurance, how='inner', on='county_name')\n",
    "econ_cases = econ_cases.merge(p_income, how='inner', on='county_name')\n",
    "econ_cases = econ_cases.merge(total_jobs, how='inner', on='county_name')"
   ]
  },
  {
   "cell_type": "code",
   "execution_count": 14,
   "id": "dcd776b0",
   "metadata": {},
   "outputs": [],
   "source": [
    "econ_cases['incomepercapita'] = econ_cases['personal_income'] / econ_cases['population']\n",
    "econ_cases['employerc_percapita'] = econ_cases['employer_contri'] / econ_cases['population']\n",
    "econ_cases['jobspercapita'] = econ_cases['totalJobs'] / econ_cases['population']"
   ]
  },
  {
   "cell_type": "code",
   "execution_count": 15,
   "id": "1722779a",
   "metadata": {},
   "outputs": [],
   "source": [
    "econ_cases = econ_cases.rename(columns={'case rate': 'case_rate', 'death rate': 'death_rate'})\n",
    "econ_cases['hosp_rate'] = econ_cases['hospitalization']*100000 /  econ_cases['population']"
   ]
  },
  {
   "cell_type": "code",
   "execution_count": 16,
   "id": "3ef65326",
   "metadata": {
    "scrolled": true
   },
   "outputs": [
    {
     "name": "stdout",
     "output_type": "stream",
     "text": [
      "<class 'pandas.core.frame.DataFrame'>\n",
      "Int64Index: 159 entries, 0 to 158\n",
      "Data columns (total 20 columns):\n",
      " #   Column               Non-Null Count  Dtype  \n",
      "---  ------               --------------  -----  \n",
      " 0   county_name          159 non-null    object \n",
      " 1   cases                159 non-null    int64  \n",
      " 2   county_id            159 non-null    object \n",
      " 3   County FIPS code     159 non-null    object \n",
      " 4   population           159 non-null    int64  \n",
      " 5   hospitalization      159 non-null    int64  \n",
      " 6   deaths               159 non-null    int64  \n",
      " 7   case_rate            159 non-null    float64\n",
      " 8   death_rate           159 non-null    float64\n",
      " 9   14 day case rate     159 non-null    float64\n",
      " 10  14 day cases         159 non-null    int64  \n",
      " 11  antigen_cases        159 non-null    int64  \n",
      " 12  probable_deaths      159 non-null    int64  \n",
      " 13  employer_contri      159 non-null    float64\n",
      " 14  personal_income      159 non-null    float64\n",
      " 15  totalJobs            159 non-null    float64\n",
      " 16  incomepercapita      159 non-null    float64\n",
      " 17  employerc_percapita  159 non-null    float64\n",
      " 18  jobspercapita        159 non-null    float64\n",
      " 19  hosp_rate            159 non-null    float64\n",
      "dtypes: float64(10), int64(7), object(3)\n",
      "memory usage: 26.1+ KB\n"
     ]
    }
   ],
   "source": [
    "econ_cases.info()"
   ]
  },
  {
   "cell_type": "code",
   "execution_count": null,
   "id": "39239126",
   "metadata": {},
   "outputs": [],
   "source": []
  },
  {
   "cell_type": "code",
   "execution_count": 17,
   "id": "fe3c15d0",
   "metadata": {},
   "outputs": [
    {
     "data": {
      "text/html": [
       "<div>\n",
       "<style scoped>\n",
       "    .dataframe tbody tr th:only-of-type {\n",
       "        vertical-align: middle;\n",
       "    }\n",
       "\n",
       "    .dataframe tbody tr th {\n",
       "        vertical-align: top;\n",
       "    }\n",
       "\n",
       "    .dataframe thead th {\n",
       "        text-align: right;\n",
       "    }\n",
       "</style>\n",
       "<table border=\"1\" class=\"dataframe\">\n",
       "  <thead>\n",
       "    <tr style=\"text-align: right;\">\n",
       "      <th></th>\n",
       "      <th>county_name</th>\n",
       "      <th>cases</th>\n",
       "      <th>county_id</th>\n",
       "      <th>County FIPS code</th>\n",
       "      <th>population</th>\n",
       "      <th>hospitalization</th>\n",
       "      <th>deaths</th>\n",
       "      <th>case_rate</th>\n",
       "      <th>death_rate</th>\n",
       "      <th>14 day case rate</th>\n",
       "      <th>14 day cases</th>\n",
       "      <th>antigen_cases</th>\n",
       "      <th>probable_deaths</th>\n",
       "      <th>employer_contri</th>\n",
       "      <th>personal_income</th>\n",
       "      <th>totalJobs</th>\n",
       "      <th>incomepercapita</th>\n",
       "      <th>employerc_percapita</th>\n",
       "      <th>jobspercapita</th>\n",
       "      <th>hosp_rate</th>\n",
       "    </tr>\n",
       "  </thead>\n",
       "  <tbody>\n",
       "    <tr>\n",
       "      <th>0</th>\n",
       "      <td>Appling</td>\n",
       "      <td>1925</td>\n",
       "      <td>US-13001</td>\n",
       "      <td>1</td>\n",
       "      <td>18561</td>\n",
       "      <td>189</td>\n",
       "      <td>67</td>\n",
       "      <td>10371.21</td>\n",
       "      <td>360.97</td>\n",
       "      <td>70.04</td>\n",
       "      <td>13</td>\n",
       "      <td>397</td>\n",
       "      <td>5</td>\n",
       "      <td>88012.0</td>\n",
       "      <td>652960.0</td>\n",
       "      <td>9653.0</td>\n",
       "      <td>35.179139</td>\n",
       "      <td>4.741770</td>\n",
       "      <td>0.520069</td>\n",
       "      <td>1018.264102</td>\n",
       "    </tr>\n",
       "    <tr>\n",
       "      <th>1</th>\n",
       "      <td>Atkinson</td>\n",
       "      <td>802</td>\n",
       "      <td>US-13003</td>\n",
       "      <td>3</td>\n",
       "      <td>8330</td>\n",
       "      <td>127</td>\n",
       "      <td>20</td>\n",
       "      <td>9627.85</td>\n",
       "      <td>240.10</td>\n",
       "      <td>12.00</td>\n",
       "      <td>1</td>\n",
       "      <td>243</td>\n",
       "      <td>3</td>\n",
       "      <td>24809.0</td>\n",
       "      <td>257538.0</td>\n",
       "      <td>3589.0</td>\n",
       "      <td>30.916927</td>\n",
       "      <td>2.978271</td>\n",
       "      <td>0.430852</td>\n",
       "      <td>1524.609844</td>\n",
       "    </tr>\n",
       "    <tr>\n",
       "      <th>2</th>\n",
       "      <td>Bacon</td>\n",
       "      <td>1299</td>\n",
       "      <td>US-13005</td>\n",
       "      <td>5</td>\n",
       "      <td>11404</td>\n",
       "      <td>91</td>\n",
       "      <td>29</td>\n",
       "      <td>11390.74</td>\n",
       "      <td>254.30</td>\n",
       "      <td>114.00</td>\n",
       "      <td>13</td>\n",
       "      <td>364</td>\n",
       "      <td>11</td>\n",
       "      <td>33219.0</td>\n",
       "      <td>372801.0</td>\n",
       "      <td>5408.0</td>\n",
       "      <td>32.690372</td>\n",
       "      <td>2.912925</td>\n",
       "      <td>0.474220</td>\n",
       "      <td>797.965626</td>\n",
       "    </tr>\n",
       "    <tr>\n",
       "      <th>3</th>\n",
       "      <td>Baker</td>\n",
       "      <td>164</td>\n",
       "      <td>US-13007</td>\n",
       "      <td>7</td>\n",
       "      <td>3116</td>\n",
       "      <td>35</td>\n",
       "      <td>10</td>\n",
       "      <td>5263.16</td>\n",
       "      <td>320.92</td>\n",
       "      <td>0.00</td>\n",
       "      <td>0</td>\n",
       "      <td>67</td>\n",
       "      <td>0</td>\n",
       "      <td>4228.0</td>\n",
       "      <td>125538.0</td>\n",
       "      <td>1043.0</td>\n",
       "      <td>40.288190</td>\n",
       "      <td>1.356868</td>\n",
       "      <td>0.334724</td>\n",
       "      <td>1123.234917</td>\n",
       "    </tr>\n",
       "    <tr>\n",
       "      <th>4</th>\n",
       "      <td>Baldwin</td>\n",
       "      <td>3886</td>\n",
       "      <td>US-13009</td>\n",
       "      <td>9</td>\n",
       "      <td>44428</td>\n",
       "      <td>329</td>\n",
       "      <td>118</td>\n",
       "      <td>8746.74</td>\n",
       "      <td>265.60</td>\n",
       "      <td>9.00</td>\n",
       "      <td>4</td>\n",
       "      <td>693</td>\n",
       "      <td>17</td>\n",
       "      <td>150126.0</td>\n",
       "      <td>1532017.0</td>\n",
       "      <td>22726.0</td>\n",
       "      <td>34.483141</td>\n",
       "      <td>3.379085</td>\n",
       "      <td>0.511524</td>\n",
       "      <td>740.523994</td>\n",
       "    </tr>\n",
       "  </tbody>\n",
       "</table>\n",
       "</div>"
      ],
      "text/plain": [
       "  county_name  cases county_id County FIPS code  population  hospitalization  \\\n",
       "0     Appling   1925  US-13001                1       18561              189   \n",
       "1    Atkinson    802  US-13003                3        8330              127   \n",
       "2       Bacon   1299  US-13005                5       11404               91   \n",
       "3       Baker    164  US-13007                7        3116               35   \n",
       "4     Baldwin   3886  US-13009                9       44428              329   \n",
       "\n",
       "   deaths  case_rate  death_rate  14 day case rate  14 day cases  \\\n",
       "0      67   10371.21      360.97             70.04            13   \n",
       "1      20    9627.85      240.10             12.00             1   \n",
       "2      29   11390.74      254.30            114.00            13   \n",
       "3      10    5263.16      320.92              0.00             0   \n",
       "4     118    8746.74      265.60              9.00             4   \n",
       "\n",
       "   antigen_cases  probable_deaths  employer_contri  personal_income  \\\n",
       "0            397                5          88012.0         652960.0   \n",
       "1            243                3          24809.0         257538.0   \n",
       "2            364               11          33219.0         372801.0   \n",
       "3             67                0           4228.0         125538.0   \n",
       "4            693               17         150126.0        1532017.0   \n",
       "\n",
       "   totalJobs  incomepercapita  employerc_percapita  jobspercapita    hosp_rate  \n",
       "0     9653.0        35.179139             4.741770       0.520069  1018.264102  \n",
       "1     3589.0        30.916927             2.978271       0.430852  1524.609844  \n",
       "2     5408.0        32.690372             2.912925       0.474220   797.965626  \n",
       "3     1043.0        40.288190             1.356868       0.334724  1123.234917  \n",
       "4    22726.0        34.483141             3.379085       0.511524   740.523994  "
      ]
     },
     "execution_count": 17,
     "metadata": {},
     "output_type": "execute_result"
    }
   ],
   "source": [
    "econ_cases.head()"
   ]
  },
  {
   "cell_type": "markdown",
   "id": "0581181e",
   "metadata": {},
   "source": [
    "## 2. Analysis"
   ]
  },
  {
   "cell_type": "markdown",
   "id": "767f0a7f",
   "metadata": {},
   "source": [
    "1. Currrent research have following claims: \n",
    "-a wide range of sociodemographic risk factors, including socioeconomic status, racial/ethnic minority status, household composition, and environmental factors, were significantly associated with COVID-19 incidence and mortality.\n",
    "My questions:\n",
    "- Do people with lower personal income have higher Covid-19 mortality rate, or more vulnerable to serve covid-cases?\n",
    "- Do people with better employer benefits have lower Covid-19 death rate, infectious rate, or hospitalization rate?\n",
    "- Are there socio-economic disparities in terms of Covid-19 incidence and mortality? "
   ]
  },
  {
   "cell_type": "code",
   "execution_count": 18,
   "id": "f330b6cb",
   "metadata": {},
   "outputs": [
    {
     "data": {
      "text/plain": [
       "[Text(0.5, 0, 'Employer contributions to retirment and insurance fund per capita(in thousands of dollars)')]"
      ]
     },
     "execution_count": 18,
     "metadata": {},
     "output_type": "execute_result"
    },
    {
     "data": {
      "image/png": "[encoded data removed]",
      "text/plain": [
       "<Figure size 432x288 with 1 Axes>"
      ]
     },
     "metadata": {
      "needs_background": "light"
     },
     "output_type": "display_data"
    }
   ],
   "source": [
    "ax = sns.histplot(data=econ_cases, x=\"employerc_percapita\")\n",
    "ax.set(xlabel='Employer contributions to retirment and insurance fund per capita(in thousands of dollars)')"
   ]
  },
  {
   "cell_type": "code",
   "execution_count": 19,
   "id": "33e566a9",
   "metadata": {},
   "outputs": [
    {
     "data": {
      "text/plain": [
       "[Text(0.5, 0, 'Income per capita in 2019(in thousands of dollars)')]"
      ]
     },
     "execution_count": 19,
     "metadata": {},
     "output_type": "execute_result"
    },
    {
     "data": {
      "image/png": "[encoded data removed]",
      "text/plain": [
       "<Figure size 432x288 with 1 Axes>"
      ]
     },
     "metadata": {
      "needs_background": "light"
     },
     "output_type": "display_data"
    }
   ],
   "source": [
    "ax = sns.histplot(data=econ_cases, x=\"incomepercapita\")\n",
    "ax.set(xlabel='Income per capita in 2019(in thousands of dollars)')"
   ]
  },
  {
   "cell_type": "code",
   "execution_count": 20,
   "id": "5b5dd707",
   "metadata": {},
   "outputs": [
    {
     "data": {
      "text/plain": [
       "[Text(0.5, 0, 'Jobs per capita in 2019')]"
      ]
     },
     "execution_count": 20,
     "metadata": {},
     "output_type": "execute_result"
    },
    {
     "data": {
      "image/png": "[encoded data removed]",
      "text/plain": [
       "<Figure size 432x288 with 1 Axes>"
      ]
     },
     "metadata": {
      "needs_background": "light"
     },
     "output_type": "display_data"
    }
   ],
   "source": [
    "ax = sns.histplot(data=econ_cases, x=\"jobspercapita\")\n",
    "ax.set(xlabel='Jobs per capita in 2019')"
   ]
  },
  {
   "cell_type": "code",
   "execution_count": 21,
   "id": "549ea7fe",
   "metadata": {},
   "outputs": [],
   "source": [
    "def spearman(data, col1, col2):\n",
    "    coefficient, pval = stats.spearmanr(data[col1], data[col2])\n",
    "    return coefficient, pval\n",
    "    "
   ]
  },
  {
   "cell_type": "code",
   "execution_count": 22,
   "id": "add86744",
   "metadata": {},
   "outputs": [],
   "source": [
    "features = ['death_rate', 'case_rate', 'hosp_rate']\n",
    "cof = []\n",
    "cof_p = []\n",
    "for i in range(3):\n",
    "    a, b = spearman(econ_cases,features[i], 'incomepercapita')\n",
    "    cof.append(a)\n",
    "    cof_p.append(b)\n",
    "pc_coef = pd.DataFrame(features, columns=['variable 1'])\n",
    "pc_coef['correlation_coeffcient'] = cof\n",
    "pc_coef['p-value'] = cof_p\n",
    "\n",
    "pc_coef['variable 2'] = ['personal income per capita'] * 3"
   ]
  },
  {
   "cell_type": "code",
   "execution_count": 23,
   "id": "0f9dc8e3",
   "metadata": {},
   "outputs": [],
   "source": [
    "#correlatin with employer contributions to insurance\n",
    "features = ['death_rate', 'case_rate', 'hosp_rate']\n",
    "cof = []\n",
    "cof_p = []\n",
    "for i in range(3):\n",
    "    a, b = spearman(econ_cases,features[i], 'employerc_percapita')\n",
    "    cof.append(a)\n",
    "    cof_p.append(b)\n",
    "\n",
    "em_coef = pd.DataFrame(features, columns=['variable 1'])\n",
    "em_coef['correlation_coeffcient'] = cof\n",
    "em_coef['p-value'] = cof_p\n",
    "\n",
    "em_coef['variable 2'] = ['employer contributions to insurance and pension per capita']*3"
   ]
  },
  {
   "cell_type": "code",
   "execution_count": 24,
   "id": "3ef014a4",
   "metadata": {},
   "outputs": [],
   "source": [
    "#correlatin with # of total jobs\n",
    "features = ['death_rate', 'case_rate', 'hosp_rate']\n",
    "cof = []\n",
    "cof_p = []\n",
    "for i in range(3):\n",
    "    a, b = spearman(econ_cases,features[i], 'jobspercapita')\n",
    "    cof.append(a)\n",
    "    cof_p.append(b)\n",
    "\n",
    "job_coef = pd.DataFrame(features, columns=['variable 1'])\n",
    "job_coef['correlation_coeffcient'] = cof\n",
    "job_coef['p-value'] = cof_p\n",
    "\n",
    "job_coef['variable 2'] = ['number of jobs per capita']*3"
   ]
  },
  {
   "cell_type": "code",
   "execution_count": 25,
   "id": "71c3d4f9",
   "metadata": {},
   "outputs": [],
   "source": [
    "corre_all = pd.concat([pc_coef, em_coef, job_coef])"
   ]
  },
  {
   "cell_type": "code",
   "execution_count": 26,
   "id": "330f68f8",
   "metadata": {},
   "outputs": [],
   "source": [
    "corre_all['correlation_coeffcient']= round(corre_all['correlation_coeffcient'], 2)\n",
    "corre_all['p-value']= round(corre_all['p-value'], 2)\n"
   ]
  },
  {
   "cell_type": "code",
   "execution_count": 27,
   "id": "48a62176",
   "metadata": {},
   "outputs": [],
   "source": [
    "corre_all = corre_all[['variable 1', 'variable 2', 'correlation_coeffcient', 'p-value']]"
   ]
  },
  {
   "cell_type": "code",
   "execution_count": 28,
   "id": "a0f8b786",
   "metadata": {},
   "outputs": [
    {
     "data": {
      "text/html": [
       "<div>\n",
       "<style scoped>\n",
       "    .dataframe tbody tr th:only-of-type {\n",
       "        vertical-align: middle;\n",
       "    }\n",
       "\n",
       "    .dataframe tbody tr th {\n",
       "        vertical-align: top;\n",
       "    }\n",
       "\n",
       "    .dataframe thead th {\n",
       "        text-align: right;\n",
       "    }\n",
       "</style>\n",
       "<table border=\"1\" class=\"dataframe\">\n",
       "  <thead>\n",
       "    <tr style=\"text-align: right;\">\n",
       "      <th></th>\n",
       "      <th>variable 1</th>\n",
       "      <th>variable 2</th>\n",
       "      <th>correlation_coeffcient</th>\n",
       "      <th>p-value</th>\n",
       "    </tr>\n",
       "  </thead>\n",
       "  <tbody>\n",
       "    <tr>\n",
       "      <th>0</th>\n",
       "      <td>death_rate</td>\n",
       "      <td>personal income per capita</td>\n",
       "      <td>-0.15</td>\n",
       "      <td>0.07</td>\n",
       "    </tr>\n",
       "    <tr>\n",
       "      <th>1</th>\n",
       "      <td>case_rate</td>\n",
       "      <td>personal income per capita</td>\n",
       "      <td>0.06</td>\n",
       "      <td>0.43</td>\n",
       "    </tr>\n",
       "    <tr>\n",
       "      <th>2</th>\n",
       "      <td>hosp_rate</td>\n",
       "      <td>personal income per capita</td>\n",
       "      <td>0.01</td>\n",
       "      <td>0.86</td>\n",
       "    </tr>\n",
       "    <tr>\n",
       "      <th>0</th>\n",
       "      <td>death_rate</td>\n",
       "      <td>employer contributions to insurance and pensio...</td>\n",
       "      <td>0.08</td>\n",
       "      <td>0.34</td>\n",
       "    </tr>\n",
       "    <tr>\n",
       "      <th>1</th>\n",
       "      <td>case_rate</td>\n",
       "      <td>employer contributions to insurance and pensio...</td>\n",
       "      <td>0.37</td>\n",
       "      <td>0.00</td>\n",
       "    </tr>\n",
       "    <tr>\n",
       "      <th>2</th>\n",
       "      <td>hosp_rate</td>\n",
       "      <td>employer contributions to insurance and pensio...</td>\n",
       "      <td>0.20</td>\n",
       "      <td>0.01</td>\n",
       "    </tr>\n",
       "    <tr>\n",
       "      <th>0</th>\n",
       "      <td>death_rate</td>\n",
       "      <td>number of jobs per capita</td>\n",
       "      <td>0.06</td>\n",
       "      <td>0.48</td>\n",
       "    </tr>\n",
       "    <tr>\n",
       "      <th>1</th>\n",
       "      <td>case_rate</td>\n",
       "      <td>number of jobs per capita</td>\n",
       "      <td>0.40</td>\n",
       "      <td>0.00</td>\n",
       "    </tr>\n",
       "    <tr>\n",
       "      <th>2</th>\n",
       "      <td>hosp_rate</td>\n",
       "      <td>number of jobs per capita</td>\n",
       "      <td>0.23</td>\n",
       "      <td>0.00</td>\n",
       "    </tr>\n",
       "  </tbody>\n",
       "</table>\n",
       "</div>"
      ],
      "text/plain": [
       "   variable 1                                         variable 2  \\\n",
       "0  death_rate                         personal income per capita   \n",
       "1   case_rate                         personal income per capita   \n",
       "2   hosp_rate                         personal income per capita   \n",
       "0  death_rate  employer contributions to insurance and pensio...   \n",
       "1   case_rate  employer contributions to insurance and pensio...   \n",
       "2   hosp_rate  employer contributions to insurance and pensio...   \n",
       "0  death_rate                          number of jobs per capita   \n",
       "1   case_rate                          number of jobs per capita   \n",
       "2   hosp_rate                          number of jobs per capita   \n",
       "\n",
       "   correlation_coeffcient  p-value  \n",
       "0                   -0.15     0.07  \n",
       "1                    0.06     0.43  \n",
       "2                    0.01     0.86  \n",
       "0                    0.08     0.34  \n",
       "1                    0.37     0.00  \n",
       "2                    0.20     0.01  \n",
       "0                    0.06     0.48  \n",
       "1                    0.40     0.00  \n",
       "2                    0.23     0.00  "
      ]
     },
     "execution_count": 28,
     "metadata": {},
     "output_type": "execute_result"
    }
   ],
   "source": [
    "corre_all"
   ]
  },
  {
   "cell_type": "code",
   "execution_count": 29,
   "id": "9d5fd371",
   "metadata": {},
   "outputs": [],
   "source": [
    "corre_all = corre_all[corre_all['p-value'] <=0.05]"
   ]
  },
  {
   "cell_type": "code",
   "execution_count": 31,
   "id": "abb06ed9",
   "metadata": {},
   "outputs": [
    {
     "data": {
      "image/png": "[encoded data removed]",
      "text/plain": [
       "<Figure size 720x360 with 1 Axes>"
      ]
     },
     "metadata": {
      "needs_background": "light"
     },
     "output_type": "display_data"
    }
   ],
   "source": [
    "plt.figure(figsize=(10,5))\n",
    "\n",
    "ax = sns.barplot(x=\"variable 1\", y=\"correlation_coeffcient\", hue=\"variable 2\", data=corre_all, \n",
    "                palette='Pastel1')\n",
    "ax.set_xticklabels(['Case Rate', 'Hospitalization Rate'])\n",
    "ax.set(xlabel='Rate', ylabel='Correlation Coeeficient', \n",
    "       title='Association between the Economic Status and Covid-19 Mortality, Case, and Hospitalizaiton Rate')\n",
    "#the following is the key to edit the legend label without losing the color \n",
    "h,l = ax.get_legend_handles_labels()\n",
    "# keep same handles, edit labels with names of choice\n",
    "ax.legend(handles=h, labels=['Personal income per capita in 2019', 'Employer contribution to retirement and insurance fund per capita in 2019', \n",
    "                             'Number of jobs per capita in 2019'])\n",
    "plt.grid(linestyle='--')"
   ]
  },
  {
   "cell_type": "code",
   "execution_count": null,
   "id": "c45aca94",
   "metadata": {},
   "outputs": [],
   "source": []
  },
  {
   "cell_type": "code",
   "execution_count": null,
   "id": "31445625",
   "metadata": {},
   "outputs": [],
   "source": []
  },
  {
   "cell_type": "markdown",
   "id": "04ec012a",
   "metadata": {},
   "source": [
    "## Conclusion\n",
    "1. Covid-19 mortality rate is not associated with incomep per capita or employer contribution t to insruance and retirement fund per capita or number of jobs per capita. \n",
    "2. Covid-19 case rate is positvely correlated with income per capita. Higher income per capita indicates higher case rate. \n",
    "Covid-19 case rate is positvely correlated with employer contribution to retirement and insurance fund. This can be due to people with government or private insurance would not be hesitant to see doctors if they experience any syptoms. \n",
    "3. Covid-19 hospitalization rate is positvely correlated with income per capita. Higher income per capita indicates higher case rate. \n",
    "Covid-19 hospitalization rate is positvely correlated with employer contribution to retirement and insurance fund. Lower employer contribution to insurance does not mean that one is less vulnerable. Instead, it can be due to people with less insurance benefits may not see docotrs or seek treatment due to the high expenses of healthcare services. \n"
   ]
  }
 ],
 "metadata": {
  "kernelspec": {
   "display_name": "Python 3",
   "language": "python",
   "name": "python3"
  },
  "language_info": {
   "codemirror_mode": {
    "name": "ipython",
    "version": 3
   },
   "file_extension": ".py",
   "mimetype": "text/x-python",
   "name": "python",
   "nbconvert_exporter": "python",
   "pygments_lexer": "ipython3",
   "version": "3.8.8"
  }
 },
 "nbformat": 4,
 "nbformat_minor": 5
}
